{
 "cells": [
  {
   "cell_type": "code",
   "execution_count": 2,
   "metadata": {},
   "outputs": [],
   "source": [
    "import numpy as np\n",
    "import pandas as pd"
   ]
  },
  {
   "cell_type": "code",
   "execution_count": 3,
   "metadata": {},
   "outputs": [],
   "source": [
    "df1 = pd.read_excel('C:/vscode/미니프로젝트/2차프로젝트_챗봇/data/TrainingData(1).xlsx')\n",
    "df1 = df1.iloc[:,:2]\n",
    "df2 = pd.read_excel('C:/vscode/미니프로젝트/2차프로젝트_챗봇/data/TrainingData(2).xlsx')\n",
    "df3 = pd.read_excel('C:/vscode/미니프로젝트/2차프로젝트_챗봇/data/TrainingData(3).xlsx')\n"
   ]
  },
  {
   "cell_type": "code",
   "execution_count": 17,
   "metadata": {},
   "outputs": [
    {
     "data": {
      "text/plain": [
       "<bound method DataFrame.nunique of                                                        Q  \\\n",
       "0                              일은 왜 해도 해도 끝이 없을까? 화가 난다.   \n",
       "1         이번 달에 또 급여가 깎였어! 물가는 오르는데 월급만 자꾸 깎이니까 너무 화가 나.   \n",
       "2      회사에 신입이 들어왔는데 말투가 거슬려. 그런 애를 매일 봐야 한다고 생각하니까 스...   \n",
       "3      직장에서 막내라는 이유로 나에게만 온갖 심부름을 시켜. 일도 많은 데 정말 분하고 ...   \n",
       "4                  얼마 전 입사한 신입사원이 나를 무시하는 것 같아서 너무 화가 나.   \n",
       "...                                                  ...   \n",
       "51625     나이가 먹고 이제 돈도 못 벌어 오니까 어떻게 살아가야 할지 막막해. 능력도 없고.   \n",
       "51626        몸이 많이 약해졌나 봐. 이제 전과 같이 일하지 못할 것 같아 너무 짜증 나.   \n",
       "51627   이제 어떻게 해야 할지 모르겠어. 남편도 그렇고 노후 준비도 안 되어서 미래가 걱정돼.   \n",
       "51628  몇십 년을 함께 살았던 남편과 이혼했어. 그동안의 세월에 배신감을 느끼고 너무 화가 나.   \n",
       "51629  남편과 결혼한 지 사십 년이야. 이제 사람 만나는 것도 버겁고 알던 사람도 점점 사라져.   \n",
       "\n",
       "                                                       A  \n",
       "0                            많이 힘드시겠어요. 주위에 의논할 상대가 있나요?  \n",
       "1               급여가 줄어 속상하시겠어요. 월급이 줄어든 것을 어떻게 보완하실 건가요?  \n",
       "2      회사 동료 때문에 스트레스를 많이 받는 것 같아요. 문제 해결을 위해 어떤 노력을 ...  \n",
       "3      관련 없는 심부름을 모두 하게 되어서 노여우시군요. 어떤 것이 상황을 나아질 수 있...  \n",
       "4      무시하는 것 같은 태도에 화가 나셨군요. 상대방의 어떤 행동이 그런 감정을 유발하는...  \n",
       "...                                                  ...  \n",
       "51625                 경제적인 문제 때문에 막막하시군요. 마음이 편치 않으시겠어요.  \n",
       "51626              건강에 대한 어려움 때문에 기분이 좋지 않으시군요. 속상하시겠어요.  \n",
       "51627                      노후 준비에 대한 어려움 때문에 걱정이 많으시겠어요.  \n",
       "51628                               가족과의 문제 때문에 속상하시겠어요.  \n",
       "51629                    대인관계에 대한 어려움 때문에 걱정되시고 속상하시겠어요.  \n",
       "\n",
       "[51630 rows x 2 columns]>"
      ]
     },
     "execution_count": 17,
     "metadata": {},
     "output_type": "execute_result"
    }
   ],
   "source": [
    "df1.nunique"
   ]
  },
  {
   "cell_type": "code",
   "execution_count": 7,
   "metadata": {},
   "outputs": [
    {
     "data": {
      "text/html": [
       "<div>\n",
       "<style scoped>\n",
       "    .dataframe tbody tr th:only-of-type {\n",
       "        vertical-align: middle;\n",
       "    }\n",
       "\n",
       "    .dataframe tbody tr th {\n",
       "        vertical-align: top;\n",
       "    }\n",
       "\n",
       "    .dataframe thead th {\n",
       "        text-align: right;\n",
       "    }\n",
       "</style>\n",
       "<table border=\"1\" class=\"dataframe\">\n",
       "  <thead>\n",
       "    <tr style=\"text-align: right;\">\n",
       "      <th></th>\n",
       "      <th>Q</th>\n",
       "      <th>A</th>\n",
       "    </tr>\n",
       "  </thead>\n",
       "  <tbody>\n",
       "    <tr>\n",
       "      <th>304</th>\n",
       "      <td>앞으로는 자식보다 나를 생각하며 살아야겠어. 자식 위해 살아도 필요 없다는 말 이제...</td>\n",
       "      <td>이제는 자식보다 나를 생각하며 살려 하시는군요.</td>\n",
       "    </tr>\n",
       "    <tr>\n",
       "      <th>305</th>\n",
       "      <td>은퇴 후 조금 쉬며 즐기려고 해. 내가 잘할 수 있는 일이 분명 있을 테니까.</td>\n",
       "      <td>은퇴 후에는 쉬면서 즐기려고 할 생각이시군요.</td>\n",
       "    </tr>\n",
       "    <tr>\n",
       "      <th>306</th>\n",
       "      <td>감정을 추스르고 나중에 연락을 해야겠어. 지금은 많이 서운해.</td>\n",
       "      <td>감정을 추스르고 나중에 연락을 할 생각이시군요.</td>\n",
       "    </tr>\n",
       "    <tr>\n",
       "      <th>307</th>\n",
       "      <td>일단 여행을 다녀 보려고. 그동안 너무 앞만 보고 달려왔어.</td>\n",
       "      <td>여행을 다녀 볼 생각이시군요.</td>\n",
       "    </tr>\n",
       "    <tr>\n",
       "      <th>308</th>\n",
       "      <td>한 달 정도 더 고민을 해 보려고. 지금 너무 마음이 지쳤어.</td>\n",
       "      <td>마음이 지쳐 한 달 정도 더 고민해 볼 생각이시군요.</td>\n",
       "    </tr>\n",
       "    <tr>\n",
       "      <th>...</th>\n",
       "      <td>...</td>\n",
       "      <td>...</td>\n",
       "    </tr>\n",
       "    <tr>\n",
       "      <th>51625</th>\n",
       "      <td>노년층을 위한 경제적 지원이나 부업 같은 것도 알아보아야겠어.</td>\n",
       "      <td>좋은 결과 얻으시길 바랄게요.</td>\n",
       "    </tr>\n",
       "    <tr>\n",
       "      <th>51626</th>\n",
       "      <td>남편과 함께 게이트볼이나 치러 가야겠어. 그럼 기분이 나아질 것 같아.</td>\n",
       "      <td>남편과 함께하는 좋은 외출 시간 되시길 바랄게요.</td>\n",
       "    </tr>\n",
       "    <tr>\n",
       "      <th>51627</th>\n",
       "      <td>남편과 함께 실버 일자리나 노년층을 위한 국가 지원에 대해 자세히 알아보아야겠어.</td>\n",
       "      <td>좋은 정보 많이 얻으셔서 걱정을 좀 덜으셨으면 좋겠어요.</td>\n",
       "    </tr>\n",
       "    <tr>\n",
       "      <th>51628</th>\n",
       "      <td>함께 친하게 지내던 동네 언니 동생들과 빈자리를 조금이나마 채울까 해.</td>\n",
       "      <td>지인분들과 좋은 시간 보내셨으면 좋겠어요.</td>\n",
       "    </tr>\n",
       "    <tr>\n",
       "      <th>51629</th>\n",
       "      <td>사람들을 볼 때 의심하고 불신하는 마음을 억눌러야겠어. 사람들을 색안경을 끼고 보지...</td>\n",
       "      <td>원하시는 대로 가지고 계시던 걱정이 잘 해결되셨으면 좋겠어요.</td>\n",
       "    </tr>\n",
       "  </tbody>\n",
       "</table>\n",
       "<p>42694 rows × 2 columns</p>\n",
       "</div>"
      ],
      "text/plain": [
       "                                                       Q  \\\n",
       "304    앞으로는 자식보다 나를 생각하며 살아야겠어. 자식 위해 살아도 필요 없다는 말 이제...   \n",
       "305          은퇴 후 조금 쉬며 즐기려고 해. 내가 잘할 수 있는 일이 분명 있을 테니까.   \n",
       "306                   감정을 추스르고 나중에 연락을 해야겠어. 지금은 많이 서운해.   \n",
       "307                    일단 여행을 다녀 보려고. 그동안 너무 앞만 보고 달려왔어.   \n",
       "308                   한 달 정도 더 고민을 해 보려고. 지금 너무 마음이 지쳤어.   \n",
       "...                                                  ...   \n",
       "51625                 노년층을 위한 경제적 지원이나 부업 같은 것도 알아보아야겠어.   \n",
       "51626            남편과 함께 게이트볼이나 치러 가야겠어. 그럼 기분이 나아질 것 같아.   \n",
       "51627      남편과 함께 실버 일자리나 노년층을 위한 국가 지원에 대해 자세히 알아보아야겠어.   \n",
       "51628            함께 친하게 지내던 동네 언니 동생들과 빈자리를 조금이나마 채울까 해.   \n",
       "51629  사람들을 볼 때 의심하고 불신하는 마음을 억눌러야겠어. 사람들을 색안경을 끼고 보지...   \n",
       "\n",
       "                                        A  \n",
       "304            이제는 자식보다 나를 생각하며 살려 하시는군요.  \n",
       "305             은퇴 후에는 쉬면서 즐기려고 할 생각이시군요.  \n",
       "306            감정을 추스르고 나중에 연락을 할 생각이시군요.  \n",
       "307                      여행을 다녀 볼 생각이시군요.  \n",
       "308         마음이 지쳐 한 달 정도 더 고민해 볼 생각이시군요.  \n",
       "...                                   ...  \n",
       "51625                    좋은 결과 얻으시길 바랄게요.  \n",
       "51626         남편과 함께하는 좋은 외출 시간 되시길 바랄게요.  \n",
       "51627     좋은 정보 많이 얻으셔서 걱정을 좀 덜으셨으면 좋겠어요.  \n",
       "51628             지인분들과 좋은 시간 보내셨으면 좋겠어요.  \n",
       "51629  원하시는 대로 가지고 계시던 걱정이 잘 해결되셨으면 좋겠어요.  \n",
       "\n",
       "[42694 rows x 2 columns]"
      ]
     },
     "execution_count": 7,
     "metadata": {},
     "output_type": "execute_result"
    }
   ],
   "source": [
    "df3 = df3.dropna()\n",
    "df3"
   ]
  },
  {
   "cell_type": "code",
   "execution_count": 11,
   "metadata": {},
   "outputs": [],
   "source": [
    "df1 = pd.DataFrame(df1)\n",
    "df2 = pd.DataFrame(df2)\n",
    "df3 = pd.DataFrame(df3)"
   ]
  },
  {
   "cell_type": "code",
   "execution_count": 13,
   "metadata": {},
   "outputs": [
    {
     "data": {
      "text/html": [
       "<div>\n",
       "<style scoped>\n",
       "    .dataframe tbody tr th:only-of-type {\n",
       "        vertical-align: middle;\n",
       "    }\n",
       "\n",
       "    .dataframe tbody tr th {\n",
       "        vertical-align: top;\n",
       "    }\n",
       "\n",
       "    .dataframe thead th {\n",
       "        text-align: right;\n",
       "    }\n",
       "</style>\n",
       "<table border=\"1\" class=\"dataframe\">\n",
       "  <thead>\n",
       "    <tr style=\"text-align: right;\">\n",
       "      <th></th>\n",
       "      <th>Q</th>\n",
       "      <th>A</th>\n",
       "    </tr>\n",
       "  </thead>\n",
       "  <tbody>\n",
       "    <tr>\n",
       "      <th>0</th>\n",
       "      <td>일은 왜 해도 해도 끝이 없을까? 화가 난다.</td>\n",
       "      <td>많이 힘드시겠어요. 주위에 의논할 상대가 있나요?</td>\n",
       "    </tr>\n",
       "    <tr>\n",
       "      <th>1</th>\n",
       "      <td>이번 달에 또 급여가 깎였어! 물가는 오르는데 월급만 자꾸 깎이니까 너무 화가 나.</td>\n",
       "      <td>급여가 줄어 속상하시겠어요. 월급이 줄어든 것을 어떻게 보완하실 건가요?</td>\n",
       "    </tr>\n",
       "    <tr>\n",
       "      <th>2</th>\n",
       "      <td>회사에 신입이 들어왔는데 말투가 거슬려. 그런 애를 매일 봐야 한다고 생각하니까 스...</td>\n",
       "      <td>회사 동료 때문에 스트레스를 많이 받는 것 같아요. 문제 해결을 위해 어떤 노력을 ...</td>\n",
       "    </tr>\n",
       "    <tr>\n",
       "      <th>3</th>\n",
       "      <td>직장에서 막내라는 이유로 나에게만 온갖 심부름을 시켜. 일도 많은 데 정말 분하고 ...</td>\n",
       "      <td>관련 없는 심부름을 모두 하게 되어서 노여우시군요. 어떤 것이 상황을 나아질 수 있...</td>\n",
       "    </tr>\n",
       "    <tr>\n",
       "      <th>4</th>\n",
       "      <td>얼마 전 입사한 신입사원이 나를 무시하는 것 같아서 너무 화가 나.</td>\n",
       "      <td>무시하는 것 같은 태도에 화가 나셨군요. 상대방의 어떤 행동이 그런 감정을 유발하는...</td>\n",
       "    </tr>\n",
       "    <tr>\n",
       "      <th>...</th>\n",
       "      <td>...</td>\n",
       "      <td>...</td>\n",
       "    </tr>\n",
       "    <tr>\n",
       "      <th>51625</th>\n",
       "      <td>노년층을 위한 경제적 지원이나 부업 같은 것도 알아보아야겠어.</td>\n",
       "      <td>좋은 결과 얻으시길 바랄게요.</td>\n",
       "    </tr>\n",
       "    <tr>\n",
       "      <th>51626</th>\n",
       "      <td>남편과 함께 게이트볼이나 치러 가야겠어. 그럼 기분이 나아질 것 같아.</td>\n",
       "      <td>남편과 함께하는 좋은 외출 시간 되시길 바랄게요.</td>\n",
       "    </tr>\n",
       "    <tr>\n",
       "      <th>51627</th>\n",
       "      <td>남편과 함께 실버 일자리나 노년층을 위한 국가 지원에 대해 자세히 알아보아야겠어.</td>\n",
       "      <td>좋은 정보 많이 얻으셔서 걱정을 좀 덜으셨으면 좋겠어요.</td>\n",
       "    </tr>\n",
       "    <tr>\n",
       "      <th>51628</th>\n",
       "      <td>함께 친하게 지내던 동네 언니 동생들과 빈자리를 조금이나마 채울까 해.</td>\n",
       "      <td>지인분들과 좋은 시간 보내셨으면 좋겠어요.</td>\n",
       "    </tr>\n",
       "    <tr>\n",
       "      <th>51629</th>\n",
       "      <td>사람들을 볼 때 의심하고 불신하는 마음을 억눌러야겠어. 사람들을 색안경을 끼고 보지...</td>\n",
       "      <td>원하시는 대로 가지고 계시던 걱정이 잘 해결되셨으면 좋겠어요.</td>\n",
       "    </tr>\n",
       "  </tbody>\n",
       "</table>\n",
       "<p>145954 rows × 2 columns</p>\n",
       "</div>"
      ],
      "text/plain": [
       "                                                       Q  \\\n",
       "0                              일은 왜 해도 해도 끝이 없을까? 화가 난다.   \n",
       "1         이번 달에 또 급여가 깎였어! 물가는 오르는데 월급만 자꾸 깎이니까 너무 화가 나.   \n",
       "2      회사에 신입이 들어왔는데 말투가 거슬려. 그런 애를 매일 봐야 한다고 생각하니까 스...   \n",
       "3      직장에서 막내라는 이유로 나에게만 온갖 심부름을 시켜. 일도 많은 데 정말 분하고 ...   \n",
       "4                  얼마 전 입사한 신입사원이 나를 무시하는 것 같아서 너무 화가 나.   \n",
       "...                                                  ...   \n",
       "51625                 노년층을 위한 경제적 지원이나 부업 같은 것도 알아보아야겠어.   \n",
       "51626            남편과 함께 게이트볼이나 치러 가야겠어. 그럼 기분이 나아질 것 같아.   \n",
       "51627      남편과 함께 실버 일자리나 노년층을 위한 국가 지원에 대해 자세히 알아보아야겠어.   \n",
       "51628            함께 친하게 지내던 동네 언니 동생들과 빈자리를 조금이나마 채울까 해.   \n",
       "51629  사람들을 볼 때 의심하고 불신하는 마음을 억눌러야겠어. 사람들을 색안경을 끼고 보지...   \n",
       "\n",
       "                                                       A  \n",
       "0                            많이 힘드시겠어요. 주위에 의논할 상대가 있나요?  \n",
       "1               급여가 줄어 속상하시겠어요. 월급이 줄어든 것을 어떻게 보완하실 건가요?  \n",
       "2      회사 동료 때문에 스트레스를 많이 받는 것 같아요. 문제 해결을 위해 어떤 노력을 ...  \n",
       "3      관련 없는 심부름을 모두 하게 되어서 노여우시군요. 어떤 것이 상황을 나아질 수 있...  \n",
       "4      무시하는 것 같은 태도에 화가 나셨군요. 상대방의 어떤 행동이 그런 감정을 유발하는...  \n",
       "...                                                  ...  \n",
       "51625                                   좋은 결과 얻으시길 바랄게요.  \n",
       "51626                        남편과 함께하는 좋은 외출 시간 되시길 바랄게요.  \n",
       "51627                    좋은 정보 많이 얻으셔서 걱정을 좀 덜으셨으면 좋겠어요.  \n",
       "51628                            지인분들과 좋은 시간 보내셨으면 좋겠어요.  \n",
       "51629                 원하시는 대로 가지고 계시던 걱정이 잘 해결되셨으면 좋겠어요.  \n",
       "\n",
       "[145954 rows x 2 columns]"
      ]
     },
     "execution_count": 13,
     "metadata": {},
     "output_type": "execute_result"
    }
   ],
   "source": [
    "df = pd.concat([df1,df2,df3])\n",
    "df"
   ]
  },
  {
   "cell_type": "code",
   "execution_count": 18,
   "metadata": {},
   "outputs": [],
   "source": [
    "df.to_excel('C:/vscode/미니프로젝트/2차프로젝트_챗봇/data/TrainingData_total.xlsx',index=False)"
   ]
  },
  {
   "attachments": {},
   "cell_type": "markdown",
   "metadata": {},
   "source": [
    "> model 불러와서 임베딩파일 만들기"
   ]
  },
  {
   "cell_type": "code",
   "execution_count": 19,
   "metadata": {},
   "outputs": [],
   "source": [
    "from sentence_transformers import SentenceTransformer\n",
    "model = SentenceTransformer('ddobokki/klue-roberta-base-nli-sts-ko-en')\n",
    "model2 = SentenceTransformer('jhgan/ko-sroberta-multitask')"
   ]
  },
  {
   "cell_type": "code",
   "execution_count": 20,
   "metadata": {},
   "outputs": [],
   "source": [
    "# Q의 문장 임베딩값 따로 저장\n",
    "df['embedding'] = df.apply(lambda row: model.encode(row.Q), axis = 1)\n",
    "df['embedding2'] = df.apply(lambda row: model2.encode(row.Q), axis = 1)"
   ]
  },
  {
   "cell_type": "code",
   "execution_count": 21,
   "metadata": {},
   "outputs": [
    {
     "name": "stderr",
     "output_type": "stream",
     "text": [
      "C:\\Users\\tjoeun\\AppData\\Local\\Temp\\ipykernel_4428\\2171907286.py:3: UserWarning: Creating a tensor from a list of numpy.ndarrays is extremely slow. Please consider converting the list to a single numpy.ndarray with numpy.array() before converting to a tensor. (Triggered internally at C:\\actions-runner\\_work\\pytorch\\pytorch\\builder\\windows\\pytorch\\torch\\csrc\\utils\\tensor_new.cpp:248.)\n",
      "  embedding_data = torch.tensor(df['embedding'].tolist())\n"
     ]
    }
   ],
   "source": [
    "# 데이터를 tensor로 변환\n",
    "import torch\n",
    "embedding_data = torch.tensor(df['embedding'].tolist())\n",
    "embedding_data2 = torch.tensor(df['embedding2'].tolist())"
   ]
  },
  {
   "cell_type": "code",
   "execution_count": 23,
   "metadata": {},
   "outputs": [],
   "source": [
    "# 임베딩 데이터를 pickle 파일로 저장\n",
    "import pickle\n",
    "with open('embedding_data1.pickle', 'wb') as file:\n",
    "    pickle.dump(embedding_data, file)\n",
    "with open('embedding_data2.pickle', 'wb') as file:\n",
    "    pickle.dump(embedding_data2, file)"
   ]
  },
  {
   "cell_type": "code",
   "execution_count": null,
   "metadata": {},
   "outputs": [],
   "source": [
    "from numpy import dot\n",
    "from numpy.linalg import norm\n",
    "\n",
    "# 두 벡터에서 코사인 유사도 구하는 함수 정의\n",
    "def cos_sim(A, B):\n",
    "    return dot(A, B)/(norm(A)*norm(B))\n",
    "\n",
    "def return_answer(question):\n",
    "    embedding = model.encode(question)\n",
    "    df['score'] = df.apply(lambda x: cos_sim(x['embedding'], embedding), axis=1)\n",
    "    return df.loc[df['score'].idxmax()]['A']"
   ]
  },
  {
   "cell_type": "code",
   "execution_count": 38,
   "metadata": {},
   "outputs": [
    {
     "name": "stdout",
     "output_type": "stream",
     "text": [
      "선택된 파일: embedding_data1.pickle\n",
      "선택된 모델: model\n"
     ]
    }
   ],
   "source": [
    "import random\n",
    "\n",
    "# 모델 리스트\n",
    "model_list = ['model', 'model2']\n",
    "\n",
    "# 파일 리스트\n",
    "file_list = ['embedding_data1.pickle', 'embedding_data2.pickle']\n",
    "\n",
    "# 파일 랜덤 선택\n",
    "selected_file = random.choice(file_list)\n",
    "\n",
    "# 모델 선택\n",
    "if selected_file == file_list[0]:\n",
    "    selected_model = model_list[0]\n",
    "else:\n",
    "    selected_model = model_list[1]\n",
    "\n",
    "print(\"선택된 파일:\", selected_file)\n",
    "print(\"선택된 모델:\", selected_model)"
   ]
  }
 ],
 "metadata": {
  "kernelspec": {
   "display_name": "base",
   "language": "python",
   "name": "python3"
  },
  "language_info": {
   "codemirror_mode": {
    "name": "ipython",
    "version": 3
   },
   "file_extension": ".py",
   "mimetype": "text/x-python",
   "name": "python",
   "nbconvert_exporter": "python",
   "pygments_lexer": "ipython3",
   "version": "3.9.13"
  },
  "orig_nbformat": 4
 },
 "nbformat": 4,
 "nbformat_minor": 2
}
